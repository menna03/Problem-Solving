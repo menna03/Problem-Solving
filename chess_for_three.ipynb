{
  "cells": [
    {
      "cell_type": "markdown",
      "id": "2d278beb",
      "metadata": {
        "id": "2d278beb"
      },
      "source": [
        "<center>\n",
        "    <H1>\n",
        "        Chess for Three\n",
        "    </H1>\n",
        "</center>\n",
        "\n",
        "<hr style=\"height:2px\">\n",
        "\n",
        "<center>\n",
        "    <H3>\n",
        "        Problem\n",
        "    </H3>\n",
        "</center>\n",
        "\n",
        "Three friends gathered to play a few games of chess together.\n",
        "\n",
        "In every game, two of them play against each other. The winner gets $2$ points while the loser gets $0$, and in case of a draw, both players get $1$ point each. Note that the same pair of players could have played any non-negative number of times (possibly zero). It is also possible that no games were played at all.\n",
        "\n",
        "You've been told that their scores after all the games were played were $p_1$, $p_2$ and $p_3$. Additionally, it is guaranteed that $p_1≤p_2≤p_3$ holds.\n",
        "\n",
        "Find the maximum number of draws that could have happened and print it. If there isn't any way to obtain $p_1$, $p_2$ and $p_3$ as a result of a non-negative number of games between the three players, print $−1$ instead.\n",
        "\n",
        "\n",
        "\n",
        "<BR>\n",
        "Given the scores of the three players $p_1$, $p_2$ and $p_3$:\n",
        "<p style=\"font-weight: bold; text-align: center\">\n",
        "    Write a function that returns <u>the maximum number of draws that could have happened OR $-1$ if the player scores are impossible</u>.\n",
        "</p>\n",
        "<BR>\n",
        "\n",
        "<hr style=\"height:2px\">\n",
        "\n",
        "<center>\n",
        "    <H3>\n",
        "        Sample Inputs & Outputs\n",
        "    </H3>\n",
        "</center>\n",
        "\n",
        "Sample input(s) and output(s) are given below. Note that the examples below are not exhaustive and that <u>**we will try your solution on other examples that are held back**</u> for verification later. Do try to account for as many cases as you can. Good Luck!\n",
        "\n",
        "#### Example 1\n",
        "```\n",
        "Input: p1=0, p2=0, p3=0\n",
        "Output: 0  // no games played, no draws\n",
        "```\n",
        "\n",
        "#### Example 2\n",
        "```\n",
        "Input: p1=0, p2=1, p3=1\n",
        "Output: 1  // 2nd and 3rd player played a single game and tied\n",
        "```\n",
        "\n",
        "#### Example 3\n",
        "```\n",
        "Input: p1=1, p2=1, p3=1\n",
        "Output: -1  // no set of games could result in these scores\n",
        "```\n",
        "\n",
        "<hr style=\"height:2px\">"
      ]
    },
    {
      "cell_type": "markdown",
      "id": "12600d9d",
      "metadata": {
        "id": "12600d9d"
      },
      "source": [
        "Please fill in the function below, then try your solution on the examples given at the bottom of this notebook.\n",
        "\n",
        "**Do NOT import or use any external libraries. AVOID `import` statements in your solution (e.g. `import numpy as np`).\n",
        "Use only base Python functions and pre-loaded libraries.**\n",
        "\n",
        "*You are free to add your own helper functions to be called by the function below.*\n",
        "\n",
        "Examples of functions/methods that you may use:\n",
        "   - min()\n",
        "   - max()\n",
        "   - len()\n",
        "   - type()\n",
        "   - range()\n",
        "   - reversed()\n",
        "   - list.sort()\n",
        "   - list.append()\n",
        "   - list.extend()\n",
        "   - list.pop()\n",
        "   - list.remove()\n",
        "   - list.index()"
      ]
    },
    {
      "cell_type": "code",
      "execution_count": 1,
      "id": "e6415c8c",
      "metadata": {
        "id": "e6415c8c"
      },
      "outputs": [],
      "source": [
        "def chess_for_three(p1, p2, p3):\n",
        "    scores = p1 + p2 + p3\n",
        "\n",
        "    if scores % 2 != 0:\n",
        "        return -1\n",
        "\n",
        "    Calculation  = min(scores // 2, min(p1 + p2, p2 + p3))\n",
        "\n",
        "    return Calculation"
      ]
    },
    {
      "cell_type": "code",
      "execution_count": 2,
      "id": "4366fc4a",
      "metadata": {
        "colab": {
          "base_uri": "https://localhost:8080/"
        },
        "id": "4366fc4a",
        "outputId": "1d9f4083-2a73-45dd-a55b-4780ce097daa"
      },
      "outputs": [
        {
          "output_type": "execute_result",
          "data": {
            "text/plain": [
              "0"
            ]
          },
          "metadata": {},
          "execution_count": 2
        }
      ],
      "source": [
        "chess_for_three(0,0,0)  # Expected: 0"
      ]
    },
    {
      "cell_type": "code",
      "execution_count": 3,
      "id": "56b7c645",
      "metadata": {
        "colab": {
          "base_uri": "https://localhost:8080/"
        },
        "id": "56b7c645",
        "outputId": "6643076f-2821-4e8e-8e52-47394c9e0b05"
      },
      "outputs": [
        {
          "output_type": "execute_result",
          "data": {
            "text/plain": [
              "1"
            ]
          },
          "metadata": {},
          "execution_count": 3
        }
      ],
      "source": [
        "chess_for_three(0,1,1)  # Expected: 1"
      ]
    },
    {
      "cell_type": "code",
      "execution_count": 4,
      "id": "1d91c7dc",
      "metadata": {
        "colab": {
          "base_uri": "https://localhost:8080/"
        },
        "id": "1d91c7dc",
        "outputId": "e26bf270-aee7-471a-bde6-badcea67ce65"
      },
      "outputs": [
        {
          "output_type": "execute_result",
          "data": {
            "text/plain": [
              "-1"
            ]
          },
          "metadata": {},
          "execution_count": 4
        }
      ],
      "source": [
        "chess_for_three(1,1,1)  # Expected: -1"
      ]
    },
    {
      "cell_type": "code",
      "execution_count": 5,
      "id": "903c0dc2",
      "metadata": {
        "colab": {
          "base_uri": "https://localhost:8080/"
        },
        "id": "903c0dc2",
        "outputId": "80f81215-b5f7-4708-f89e-404ae9065778"
      },
      "outputs": [
        {
          "output_type": "execute_result",
          "data": {
            "text/plain": [
              "2"
            ]
          },
          "metadata": {},
          "execution_count": 5
        }
      ],
      "source": [
        "chess_for_three(1,1,2)  # Expected: 2"
      ]
    },
    {
      "cell_type": "code",
      "execution_count": 6,
      "id": "58e50070",
      "metadata": {
        "colab": {
          "base_uri": "https://localhost:8080/"
        },
        "id": "58e50070",
        "outputId": "f0a0df4a-9c0f-48f7-9e5d-f75bc8ebbfc7"
      },
      "outputs": [
        {
          "output_type": "execute_result",
          "data": {
            "text/plain": [
              "-1"
            ]
          },
          "metadata": {},
          "execution_count": 6
        }
      ],
      "source": [
        "chess_for_three(3,3,3)  # Expected: -1"
      ]
    },
    {
      "cell_type": "code",
      "execution_count": 7,
      "id": "f0658b2c",
      "metadata": {
        "colab": {
          "base_uri": "https://localhost:8080/"
        },
        "id": "f0658b2c",
        "outputId": "071e2760-f5a2-4fab-a01b-3f5ea954bb74"
      },
      "outputs": [
        {
          "output_type": "execute_result",
          "data": {
            "text/plain": [
              "6"
            ]
          },
          "metadata": {},
          "execution_count": 7
        }
      ],
      "source": [
        "chess_for_three(3,4,5)  # Expected: 6"
      ]
    },
    {
      "cell_type": "code",
      "execution_count": 8,
      "id": "3f3f7b99",
      "metadata": {
        "colab": {
          "base_uri": "https://localhost:8080/"
        },
        "id": "3f3f7b99",
        "outputId": "030b4ee5-8cc5-442b-b303-245c05ee67d3"
      },
      "outputs": [
        {
          "output_type": "execute_result",
          "data": {
            "text/plain": [
              "2"
            ]
          },
          "metadata": {},
          "execution_count": 8
        }
      ],
      "source": [
        "chess_for_three(1,1,10)  # Expected: 2"
      ]
    },
    {
      "cell_type": "code",
      "source": [],
      "metadata": {
        "id": "quOOuKnEMMm_"
      },
      "id": "quOOuKnEMMm_",
      "execution_count": null,
      "outputs": []
    }
  ],
  "metadata": {
    "kernelspec": {
      "display_name": "Python 3 (ipykernel)",
      "language": "python",
      "name": "python3"
    },
    "language_info": {
      "codemirror_mode": {
        "name": "ipython",
        "version": 3
      },
      "file_extension": ".py",
      "mimetype": "text/x-python",
      "name": "python",
      "nbconvert_exporter": "python",
      "pygments_lexer": "ipython3",
      "version": "3.8.15"
    },
    "colab": {
      "provenance": []
    }
  },
  "nbformat": 4,
  "nbformat_minor": 5
}