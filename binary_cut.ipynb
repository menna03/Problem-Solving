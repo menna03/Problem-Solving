{
  "cells": [
    {
      "cell_type": "markdown",
      "id": "2d278beb",
      "metadata": {
        "id": "2d278beb"
      },
      "source": [
        "<center>\n",
        "    <H1>\n",
        "        Binary Cut\n",
        "    </H1>\n",
        "</center>\n",
        "\n",
        "<hr style=\"height:2px\">\n",
        "\n",
        "<center>\n",
        "    <H3>\n",
        "        Problem\n",
        "    </H3>\n",
        "</center>\n",
        "\n",
        "For a given binary string, we want to cut it into pieces that may be rearranged into a *sorted* binary string, and we want to do this with the minimum possible number of pieces. See the image below for an example.\n",
        "\n",
        "<img src=\"img/binary_cut.png\" alt=\"img/binary_cut.png\">\n",
        "\n",
        "Note that:\n",
        "- each character must lie in exactly one of the pieces;\n",
        "- the pieces must be contiguous substrings of the original string;\n",
        "- you must use all the pieces in the rearrangement.\n",
        "\n",
        "A *binary string* is a string consisting of characters 0 and 1. A *sorted binary string* is a binary string such that all characters 0 come before all characters 1.\n",
        "\n",
        "<BR>\n",
        "Given a binary string...\n",
        "<p style=\"font-weight: bold; text-align: center\">\n",
        "    Write a function that returns <u>the minimum possible number of pieces required to sort it</u>.\n",
        "</p>\n",
        "<BR>\n",
        "\n",
        "<hr style=\"height:2px\">\n",
        "\n",
        "<center>\n",
        "    <H3>\n",
        "        Sample Inputs & Outputs\n",
        "    </H3>\n",
        "</center>\n",
        "\n",
        "Sample input(s) and output(s) are given below. Note that the examples below are not exhaustive and that <u>**we will try your solution on other examples that are held back**</u> for verification later. Do try to account for as many cases as you can. Good Luck!\n",
        "\n",
        "#### Example 1\n",
        "```\n",
        "Input: a = '11010'\n",
        "Output: 3  // 11 | 01 | 0\n",
        "```\n",
        "\n",
        "#### Example 2\n",
        "```\n",
        "Input: a = '0001111'\n",
        "Output: 1  // no cut necessary, already sorted\n",
        "```\n",
        "\n",
        "<hr style=\"height:2px\">"
      ]
    },
    {
      "cell_type": "markdown",
      "id": "12600d9d",
      "metadata": {
        "id": "12600d9d"
      },
      "source": [
        "Please fill in the function below, then try your solution on the examples given at the bottom of this notebook.\n",
        "\n",
        "**Do NOT import or use any external libraries. AVOID `import` statements in your solution (e.g. `import numpy as np`).\n",
        "Use only base Python functions and pre-loaded libraries.**\n",
        "\n",
        "*You are free to add your own helper functions to be called by the function below.*\n",
        "\n",
        "Examples of functions/methods that you may use:\n",
        "   - min()\n",
        "   - max()\n",
        "   - len()\n",
        "   - type()\n",
        "   - range()\n",
        "   - reversed()\n",
        "   - list.sort()\n",
        "   - list.append()\n",
        "   - list.extend()\n",
        "   - list.pop()\n",
        "   - list.remove()\n",
        "   - list.index()"
      ]
    },
    {
      "source": [
        "def binaryCut(a):\n",
        "    if not a: # Binary String\n",
        "        return 0\n",
        "\n",
        "    count = 1\n",
        "\n",
        "    for i in range(1, len(a)):\n",
        "        if a[i - 1] == '1' and a[i] == '0':\n",
        "            count += 1\n",
        "\n",
        "    return count"
      ],
      "cell_type": "code",
      "metadata": {
        "id": "6_hbg0kkepN7"
      },
      "id": "6_hbg0kkepN7",
      "execution_count": null,
      "outputs": []
    },
    {
      "cell_type": "code",
      "execution_count": null,
      "id": "4366fc4a",
      "metadata": {
        "colab": {
          "base_uri": "https://localhost:8080/"
        },
        "id": "4366fc4a",
        "outputId": "394e9160-51a9-4854-ef75-3a5919f4023d"
      },
      "outputs": [
        {
          "output_type": "execute_result",
          "data": {
            "text/plain": [
              "3"
            ]
          },
          "metadata": {},
          "execution_count": 50
        }
      ],
      "source": [
        "binaryCut('11010')  # Expected: 3"
      ]
    },
    {
      "cell_type": "code",
      "execution_count": null,
      "id": "56b7c645",
      "metadata": {
        "colab": {
          "base_uri": "https://localhost:8080/"
        },
        "id": "56b7c645",
        "outputId": "5b610609-3f2d-473f-b94b-8bc8aba4a8f2"
      },
      "outputs": [
        {
          "output_type": "execute_result",
          "data": {
            "text/plain": [
              "1"
            ]
          },
          "metadata": {},
          "execution_count": 51
        }
      ],
      "source": [
        "binaryCut('00000000')  # Expected: 1"
      ]
    },
    {
      "cell_type": "code",
      "execution_count": null,
      "id": "1d91c7dc",
      "metadata": {
        "colab": {
          "base_uri": "https://localhost:8080/"
        },
        "id": "1d91c7dc",
        "outputId": "729ff06b-f6c7-4255-a0e5-39c588565cd4"
      },
      "outputs": [
        {
          "output_type": "execute_result",
          "data": {
            "text/plain": [
              "1"
            ]
          },
          "metadata": {},
          "execution_count": 52
        }
      ],
      "source": [
        "binaryCut('1')  # Expected: 1"
      ]
    },
    {
      "cell_type": "code",
      "execution_count": null,
      "id": "903c0dc2",
      "metadata": {
        "colab": {
          "base_uri": "https://localhost:8080/"
        },
        "id": "903c0dc2",
        "outputId": "2b1daa03-e130-4d65-d43b-ba824eb40264"
      },
      "outputs": [
        {
          "output_type": "execute_result",
          "data": {
            "text/plain": [
              "2"
            ]
          },
          "metadata": {},
          "execution_count": 53
        }
      ],
      "source": [
        "binaryCut('10')  # Expected: 2"
      ]
    },
    {
      "cell_type": "code",
      "execution_count": null,
      "id": "58e50070",
      "metadata": {
        "colab": {
          "base_uri": "https://localhost:8080/"
        },
        "id": "58e50070",
        "outputId": "7ca8d211-c340-4c66-ccdf-272762c343b6"
      },
      "outputs": [
        {
          "output_type": "execute_result",
          "data": {
            "text/plain": [
              "1"
            ]
          },
          "metadata": {},
          "execution_count": 54
        }
      ],
      "source": [
        "binaryCut('0001111')  # Expected: 1"
      ]
    },
    {
      "cell_type": "code",
      "execution_count": null,
      "id": "034c01f1",
      "metadata": {
        "colab": {
          "base_uri": "https://localhost:8080/"
        },
        "id": "034c01f1",
        "outputId": "ad6e6117-fef8-443b-f394-ad69d5282524"
      },
      "outputs": [
        {
          "output_type": "execute_result",
          "data": {
            "text/plain": [
              "2"
            ]
          },
          "metadata": {},
          "execution_count": 55
        }
      ],
      "source": [
        "binaryCut('0110')  # Expected: 2"
      ]
    },
    {
      "cell_type": "code",
      "source": [],
      "metadata": {
        "id": "Tz45ZWm8eyxa"
      },
      "id": "Tz45ZWm8eyxa",
      "execution_count": null,
      "outputs": []
    }
  ],
  "metadata": {
    "kernelspec": {
      "display_name": "Python 3 (ipykernel)",
      "language": "python",
      "name": "python3"
    },
    "language_info": {
      "codemirror_mode": {
        "name": "ipython",
        "version": 3
      },
      "file_extension": ".py",
      "mimetype": "text/x-python",
      "name": "python",
      "nbconvert_exporter": "python",
      "pygments_lexer": "ipython3",
      "version": "3.8.15"
    },
    "colab": {
      "provenance": []
    }
  },
  "nbformat": 4,
  "nbformat_minor": 5
}