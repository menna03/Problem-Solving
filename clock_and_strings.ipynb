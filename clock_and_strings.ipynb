{
  "cells": [
    {
      "cell_type": "markdown",
      "id": "2d278beb",
      "metadata": {
        "id": "2d278beb"
      },
      "source": [
        "<center>\n",
        "    <H1>\n",
        "        Clock and Strings\n",
        "    </H1>\n",
        "</center>\n",
        "\n",
        "<hr style=\"height:2px\">\n",
        "\n",
        "<center>\n",
        "    <H3>\n",
        "        Problem\n",
        "    </H3>\n",
        "</center>\n",
        "\n",
        "There is a clock labeled with the numbers $1$ through $12$ in clockwise order, as shown below.\n",
        "\n",
        "<img src=\"img/clocks_and_strings.png\" alt=\"img/clocks_and_strings.png\">\n",
        "\n",
        "Alice and Bob have four **distinct** integers $a$, $b$, $c$, $d$ not more than 12. Alice ties a red string connecting a and b, and Bob ties a blue string connecting c and d. Do the strings intersect? (The strings are straight line segments.)\n",
        "\n",
        "<BR>\n",
        "Given $a$, $b$, $c$ and $d$...\n",
        "<p style=\"font-weight: bold; text-align: center\">\n",
        "    Write a function that returns <u>\"YES\" if the red string a--b and the blue string c--d intersect, and \"NO\" otherwise</u>.\n",
        "</p>\n",
        "<BR>\n",
        "\n",
        "<hr style=\"height:2px\">\n",
        "\n",
        "<center>\n",
        "    <H3>\n",
        "        Sample Inputs & Outputs\n",
        "    </H3>\n",
        "</center>\n",
        "\n",
        "Sample input(s) and output(s) are given below. Note that the examples below are not exhaustive and that <u>**we will try your solution on other examples that are held back**</u> for verification later. Do try to account for as many cases as you can. Good Luck!\n",
        "\n",
        "#### Example 1\n",
        "```\n",
        "Input: a = 2, b = 9,  c = 10, d = 6\n",
        "Output: YES\n",
        "```\n",
        "\n",
        "#### Example 2\n",
        "```\n",
        "Input: a = 3, b = 8,  c = 9, d = 1\n",
        "Output: NO\n",
        "```\n",
        "\n",
        "<hr style=\"height:2px\">"
      ]
    },
    {
      "cell_type": "markdown",
      "id": "12600d9d",
      "metadata": {
        "id": "12600d9d"
      },
      "source": [
        "Please fill in the function below, then try your solution on the examples given at the bottom of this notebook.\n",
        "\n",
        "**Do NOT import or use any external libraries. AVOID `import` statements in your solution (e.g. `import numpy as np`).\n",
        "Use only base Python functions and pre-loaded libraries.**\n",
        "\n",
        "*You are free to add your own helper functions to be called by the function below.*\n",
        "\n",
        "Examples of functions/methods that you may use:\n",
        "   - min()\n",
        "   - max()\n",
        "   - len()\n",
        "   - type()\n",
        "   - range()\n",
        "   - reversed()\n",
        "   - list.sort()\n",
        "   - list.append()\n",
        "   - list.extend()\n",
        "   - list.pop()\n",
        "   - list.remove()\n",
        "   - list.index()"
      ]
    },
    {
      "cell_type": "code",
      "execution_count": 1,
      "id": "e6415c8c",
      "metadata": {
        "id": "e6415c8c"
      },
      "outputs": [],
      "source": [
        "def clock_and_strings(a, b, c, d):\n",
        "    if a > b:\n",
        "        a, b = b, a\n",
        "    if c > d:\n",
        "        c, d = d, c\n",
        "\n",
        "    intersect = (a < c < b and not (a < d < b)) or \\\n",
        "                (a < d < b and not (a < c < b)) or \\\n",
        "                (c < a < d and not (c < b < d)) or \\\n",
        "                (c < b < d and not (c < a < d))\n",
        "\n",
        "    return \"YES\" if intersect else \"NO\""
      ]
    },
    {
      "cell_type": "code",
      "execution_count": 2,
      "id": "ce40ea9f",
      "metadata": {
        "id": "ce40ea9f",
        "outputId": "88ea0a2d-628b-4499-950b-1dd83ff8d195",
        "colab": {
          "base_uri": "https://localhost:8080/",
          "height": 35
        }
      },
      "outputs": [
        {
          "output_type": "execute_result",
          "data": {
            "text/plain": [
              "'YES'"
            ],
            "application/vnd.google.colaboratory.intrinsic+json": {
              "type": "string"
            }
          },
          "metadata": {},
          "execution_count": 2
        }
      ],
      "source": [
        "clock_and_strings(2, 9, 10, 6)  # Expected: YES"
      ]
    },
    {
      "cell_type": "code",
      "execution_count": 3,
      "id": "775646fc",
      "metadata": {
        "id": "775646fc",
        "outputId": "31405155-7d0a-4d39-8947-93a0c0bfc60b",
        "colab": {
          "base_uri": "https://localhost:8080/",
          "height": 35
        }
      },
      "outputs": [
        {
          "output_type": "execute_result",
          "data": {
            "text/plain": [
              "'NO'"
            ],
            "application/vnd.google.colaboratory.intrinsic+json": {
              "type": "string"
            }
          },
          "metadata": {},
          "execution_count": 3
        }
      ],
      "source": [
        "clock_and_strings(3, 8, 9, 1)  # Expected: NO"
      ]
    },
    {
      "cell_type": "code",
      "execution_count": 4,
      "id": "47cc90d2",
      "metadata": {
        "id": "47cc90d2",
        "outputId": "b6a678db-4b93-4345-a395-c1fbc5cb0dbe",
        "colab": {
          "base_uri": "https://localhost:8080/",
          "height": 35
        }
      },
      "outputs": [
        {
          "output_type": "execute_result",
          "data": {
            "text/plain": [
              "'NO'"
            ],
            "application/vnd.google.colaboratory.intrinsic+json": {
              "type": "string"
            }
          },
          "metadata": {},
          "execution_count": 4
        }
      ],
      "source": [
        "clock_and_strings(1, 2, 3, 4)  # Expected: NO"
      ]
    },
    {
      "cell_type": "code",
      "execution_count": 5,
      "id": "42b48a1f",
      "metadata": {
        "id": "42b48a1f",
        "outputId": "c01458c4-2f83-4a5a-af2a-1a0a1aee3a60",
        "colab": {
          "base_uri": "https://localhost:8080/",
          "height": 35
        }
      },
      "outputs": [
        {
          "output_type": "execute_result",
          "data": {
            "text/plain": [
              "'YES'"
            ],
            "application/vnd.google.colaboratory.intrinsic+json": {
              "type": "string"
            }
          },
          "metadata": {},
          "execution_count": 5
        }
      ],
      "source": [
        "clock_and_strings(5, 3, 4, 12)  # Expected: YES"
      ]
    },
    {
      "cell_type": "code",
      "execution_count": 6,
      "id": "0678f6ec",
      "metadata": {
        "id": "0678f6ec",
        "outputId": "c2312d4f-7e0f-42f1-fadf-3098d0c4cb60",
        "colab": {
          "base_uri": "https://localhost:8080/",
          "height": 35
        }
      },
      "outputs": [
        {
          "output_type": "execute_result",
          "data": {
            "text/plain": [
              "'YES'"
            ],
            "application/vnd.google.colaboratory.intrinsic+json": {
              "type": "string"
            }
          },
          "metadata": {},
          "execution_count": 6
        }
      ],
      "source": [
        "clock_and_strings(1, 8, 2, 10)  # Expected: YES"
      ]
    },
    {
      "cell_type": "code",
      "execution_count": 7,
      "id": "8fc63ffc",
      "metadata": {
        "id": "8fc63ffc",
        "outputId": "4885f63b-4a6a-4112-b590-5d8652158972",
        "colab": {
          "base_uri": "https://localhost:8080/",
          "height": 35
        }
      },
      "outputs": [
        {
          "output_type": "execute_result",
          "data": {
            "text/plain": [
              "'NO'"
            ],
            "application/vnd.google.colaboratory.intrinsic+json": {
              "type": "string"
            }
          },
          "metadata": {},
          "execution_count": 7
        }
      ],
      "source": [
        "clock_and_strings(3, 12, 11, 8)  # Expected: NO"
      ]
    },
    {
      "cell_type": "code",
      "execution_count": null,
      "id": "f5b11957",
      "metadata": {
        "id": "f5b11957",
        "outputId": "879fcedf-5e25-4c7e-cacf-4ca891108fda",
        "colab": {
          "base_uri": "https://localhost:8080/",
          "height": 35
        }
      },
      "outputs": [
        {
          "output_type": "execute_result",
          "data": {
            "text/plain": [
              "'NO'"
            ],
            "application/vnd.google.colaboratory.intrinsic+json": {
              "type": "string"
            }
          },
          "metadata": {},
          "execution_count": 8
        }
      ],
      "source": [
        "clock_and_strings(9, 10, 12, 1)  # Expected: NO"
      ]
    },
    {
      "cell_type": "code",
      "execution_count": null,
      "id": "d7e8fc5a",
      "metadata": {
        "id": "d7e8fc5a",
        "outputId": "afe81891-1801-490d-aff5-a04396f8ace7",
        "colab": {
          "base_uri": "https://localhost:8080/",
          "height": 35
        }
      },
      "outputs": [
        {
          "output_type": "execute_result",
          "data": {
            "text/plain": [
              "'NO'"
            ],
            "application/vnd.google.colaboratory.intrinsic+json": {
              "type": "string"
            }
          },
          "metadata": {},
          "execution_count": 9
        }
      ],
      "source": [
        "clock_and_strings(12, 1, 10, 2)  # Expected: NO"
      ]
    },
    {
      "cell_type": "code",
      "execution_count": null,
      "id": "b906b531",
      "metadata": {
        "id": "b906b531",
        "outputId": "9e8423f9-0ef6-4d9f-9a46-bf3fb1273c8a",
        "colab": {
          "base_uri": "https://localhost:8080/",
          "height": 35
        }
      },
      "outputs": [
        {
          "output_type": "execute_result",
          "data": {
            "text/plain": [
              "'NO'"
            ],
            "application/vnd.google.colaboratory.intrinsic+json": {
              "type": "string"
            }
          },
          "metadata": {},
          "execution_count": 10
        }
      ],
      "source": [
        "clock_and_strings(3, 12, 6, 9)  # Expected: NO"
      ]
    },
    {
      "cell_type": "code",
      "execution_count": null,
      "id": "041ebc14",
      "metadata": {
        "id": "041ebc14",
        "outputId": "3049e6b0-a0f4-40c1-dbdc-f74e2e80e832",
        "colab": {
          "base_uri": "https://localhost:8080/",
          "height": 35
        }
      },
      "outputs": [
        {
          "output_type": "execute_result",
          "data": {
            "text/plain": [
              "'NO'"
            ],
            "application/vnd.google.colaboratory.intrinsic+json": {
              "type": "string"
            }
          },
          "metadata": {},
          "execution_count": 11
        }
      ],
      "source": [
        "clock_and_strings(1, 9, 8, 4)  # Expected: NO"
      ]
    },
    {
      "cell_type": "code",
      "execution_count": null,
      "id": "ccc4e3f3",
      "metadata": {
        "id": "ccc4e3f3",
        "outputId": "da0fac26-3603-43a9-8365-6264960553b9",
        "colab": {
          "base_uri": "https://localhost:8080/",
          "height": 35
        }
      },
      "outputs": [
        {
          "output_type": "execute_result",
          "data": {
            "text/plain": [
              "'NO'"
            ],
            "application/vnd.google.colaboratory.intrinsic+json": {
              "type": "string"
            }
          },
          "metadata": {},
          "execution_count": 12
        }
      ],
      "source": [
        "clock_and_strings(6, 7, 9, 12)  # Expected: NO"
      ]
    },
    {
      "cell_type": "code",
      "execution_count": null,
      "id": "69aedc26",
      "metadata": {
        "id": "69aedc26",
        "outputId": "3500e15f-523b-4d59-9fd9-6c40c1e8cdc3",
        "colab": {
          "base_uri": "https://localhost:8080/",
          "height": 35
        }
      },
      "outputs": [
        {
          "output_type": "execute_result",
          "data": {
            "text/plain": [
              "'YES'"
            ],
            "application/vnd.google.colaboratory.intrinsic+json": {
              "type": "string"
            }
          },
          "metadata": {},
          "execution_count": 13
        }
      ],
      "source": [
        "clock_and_strings(7, 12, 9, 6)  # Expected: YES"
      ]
    },
    {
      "cell_type": "code",
      "execution_count": null,
      "id": "07068226",
      "metadata": {
        "id": "07068226",
        "outputId": "4ad0ea51-d5ad-45ad-f051-59f2695ef049",
        "colab": {
          "base_uri": "https://localhost:8080/",
          "height": 35
        }
      },
      "outputs": [
        {
          "output_type": "execute_result",
          "data": {
            "text/plain": [
              "'YES'"
            ],
            "application/vnd.google.colaboratory.intrinsic+json": {
              "type": "string"
            }
          },
          "metadata": {},
          "execution_count": 14
        }
      ],
      "source": [
        "clock_and_strings(10, 12, 11, 1)  # Expected: YES"
      ]
    },
    {
      "cell_type": "code",
      "execution_count": null,
      "id": "fccf1699",
      "metadata": {
        "id": "fccf1699",
        "outputId": "fb31645b-aa1c-487c-c383-305c04a150ee",
        "colab": {
          "base_uri": "https://localhost:8080/",
          "height": 35
        }
      },
      "outputs": [
        {
          "output_type": "execute_result",
          "data": {
            "text/plain": [
              "'YES'"
            ],
            "application/vnd.google.colaboratory.intrinsic+json": {
              "type": "string"
            }
          },
          "metadata": {},
          "execution_count": 15
        }
      ],
      "source": [
        "clock_and_strings(3, 9, 6, 12)  # Expected: YES"
      ]
    },
    {
      "cell_type": "code",
      "execution_count": null,
      "id": "c5997361",
      "metadata": {
        "id": "c5997361",
        "outputId": "b9e5a2b0-34ca-4a05-b3fc-263bb9cb0166",
        "colab": {
          "base_uri": "https://localhost:8080/",
          "height": 35
        }
      },
      "outputs": [
        {
          "output_type": "execute_result",
          "data": {
            "text/plain": [
              "'YES'"
            ],
            "application/vnd.google.colaboratory.intrinsic+json": {
              "type": "string"
            }
          },
          "metadata": {},
          "execution_count": 16
        }
      ],
      "source": [
        "clock_and_strings(1, 4, 3, 5)  # Expected: YES"
      ]
    },
    {
      "cell_type": "code",
      "source": [],
      "metadata": {
        "id": "E5yVrr1s1zvs"
      },
      "id": "E5yVrr1s1zvs",
      "execution_count": null,
      "outputs": []
    }
  ],
  "metadata": {
    "kernelspec": {
      "display_name": "Python 3 (ipykernel)",
      "language": "python",
      "name": "python3"
    },
    "language_info": {
      "codemirror_mode": {
        "name": "ipython",
        "version": 3
      },
      "file_extension": ".py",
      "mimetype": "text/x-python",
      "name": "python",
      "nbconvert_exporter": "python",
      "pygments_lexer": "ipython3",
      "version": "3.8.15"
    },
    "colab": {
      "provenance": []
    }
  },
  "nbformat": 4,
  "nbformat_minor": 5
}