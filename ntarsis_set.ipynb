{
  "cells": [
    {
      "cell_type": "markdown",
      "id": "2d278beb",
      "metadata": {
        "id": "2d278beb"
      },
      "source": [
        "<center>\n",
        "    <H1>\n",
        "        Ntarsis' Set\n",
        "    </H1>\n",
        "</center>\n",
        "\n",
        "<hr style=\"height:2px\">\n",
        "\n",
        "<center>\n",
        "    <H3>\n",
        "        Problem\n",
        "    </H3>\n",
        "</center>\n",
        "\n",
        "Ntarsis has been given a set $S$, initially containing integers $1,2,3,…,10^{1000}$ in sorted order. Everyday, he will remove the $a_1$-th, $a_2$-th, …, $a_n$-th smallest numbers in $S$ simultaneously.\n",
        "\n",
        "What is the smallest element in $S$ after $k$ days?\n",
        "\n",
        "\n",
        "\n",
        "<BR>\n",
        "Given the indices $[a_1,...,a_n]$ and a number of days $k$:\n",
        "<p style=\"font-weight: bold; text-align: center\">\n",
        "    Write a function that returns <u>the smallest element in $S$ after $k$ days</u>.\n",
        "</p>\n",
        "<BR>\n",
        "\n",
        "<hr style=\"height:2px\">\n",
        "\n",
        "<center>\n",
        "    <H3>\n",
        "        Sample Inputs & Outputs\n",
        "    </H3>\n",
        "</center>\n",
        "\n",
        "Sample input(s) and output(s) are given below. Note that the examples below are not exhaustive and that <u>**we will try your solution on other examples that are held back**</u> for verification later. Do try to account for as many cases as you can. Good Luck!\n",
        "\n",
        "#### Example 1\n",
        "<code style=\"background-color:white;\">\n",
        "Input: a = [1,2,4,5,6], k = 1\n",
        "Output: 3\n",
        "    // day 1:  S_before = {<strike>1</strike>,<strike>2</strike>,3,<strike>4</strike>,<strike>5</strike>,<strike>6</strike>,7,8,9,...}  -->  S_after = {3,7,8,9,...}  -->  min = 3\n",
        "</code>\n",
        "\n",
        "#### Example 2\n",
        "    \n",
        "<code style=\"background-color:white;\">\n",
        "Input: a = [1,3,5,6,7], k = 3\n",
        "Output: 3\n",
        "    // day 1:  S_before = {<strike>1</strike>,  2,  <strike>3</strike>,  4,  <strike>5</strike>,  <strike>6</strike>,  <strike>7</strike>,  8, ...}  -->  S_after = {2,4,8,9,...}\n",
        "    // day 2:  S_before = {<strike>2</strike>,  4,  <strike>8</strike>,  9, <strike>10</strike>, <strike>11</strike>, <strike>12</strike>, 13, ...}  -->  S_after = {4,9,13,14,...}\n",
        "    // day 3:  S_before = {<strike>4</strike>,  9, <strike>13</strike>, 14, <strike>15</strike>, <strike>16</strike>, <strike>17</strike>, 18, ...}  -->  S_after = {9,14,18,19,...}  -->  min = 9\n",
        "</code>\n",
        "    \n",
        "\n",
        "<hr style=\"height:2px\">"
      ]
    },
    {
      "cell_type": "markdown",
      "id": "12600d9d",
      "metadata": {
        "id": "12600d9d"
      },
      "source": [
        "Please fill in the function below, then try your solution on the examples given at the bottom of this notebook.\n",
        "\n",
        "**Do NOT import or use any external libraries. AVOID `import` statements in your solution (e.g. `import numpy as np`).\n",
        "Use only base Python functions and pre-loaded libraries.**\n",
        "\n",
        "*You are free to add your own helper functions to be called by the function below.*\n",
        "\n",
        "Examples of functions/methods that you may use:\n",
        "   - min()\n",
        "   - max()\n",
        "   - len()\n",
        "   - type()\n",
        "   - range()\n",
        "   - reversed()\n",
        "   - list.sort()\n",
        "   - list.append()\n",
        "   - list.extend()\n",
        "   - list.pop()\n",
        "   - list.remove()\n",
        "   - list.index()"
      ]
    },
    {
      "cell_type": "code",
      "execution_count": 1,
      "id": "e6415c8c",
      "metadata": {
        "id": "e6415c8c"
      },
      "outputs": [],
      "source": [
        "def ntarsis_set(a, k):\n",
        "    a.sort()\n",
        "    smallest = 1\n",
        "    additional = 0\n",
        "    n = len(a) # elements to be removed each day\n",
        "\n",
        "    while k > 0:\n",
        "        while additional < n and a[additional] <= smallest + additional:\n",
        "            additional += 1\n",
        "        smallest += additional\n",
        "        k -= 1 # Days\n",
        "\n",
        "    return smallest"
      ]
    },
    {
      "cell_type": "code",
      "execution_count": 2,
      "id": "4366fc4a",
      "metadata": {
        "colab": {
          "base_uri": "https://localhost:8080/"
        },
        "id": "4366fc4a",
        "outputId": "65e22e07-6501-4e92-d2f4-81378718cc63"
      },
      "outputs": [
        {
          "output_type": "execute_result",
          "data": {
            "text/plain": [
              "3"
            ]
          },
          "metadata": {},
          "execution_count": 2
        }
      ],
      "source": [
        "ntarsis_set([1,2,4,5,6], 1)  # Expected: 3"
      ]
    },
    {
      "cell_type": "code",
      "execution_count": 3,
      "id": "56b7c645",
      "metadata": {
        "colab": {
          "base_uri": "https://localhost:8080/"
        },
        "id": "56b7c645",
        "outputId": "304521f1-a946-4c15-836d-c3cc9b9eb539"
      },
      "outputs": [
        {
          "output_type": "execute_result",
          "data": {
            "text/plain": [
              "9"
            ]
          },
          "metadata": {},
          "execution_count": 3
        }
      ],
      "source": [
        "ntarsis_set([1,3,5,6,7], 3)  # Expected: 9"
      ]
    },
    {
      "cell_type": "code",
      "execution_count": 4,
      "id": "1d91c7dc",
      "metadata": {
        "colab": {
          "base_uri": "https://localhost:8080/"
        },
        "id": "1d91c7dc",
        "outputId": "c08dc367-40b3-4cb7-979c-6997a2699f12"
      },
      "outputs": [
        {
          "output_type": "execute_result",
          "data": {
            "text/plain": [
              "1"
            ]
          },
          "metadata": {},
          "execution_count": 4
        }
      ],
      "source": [
        "ntarsis_set([2,3,4,5], 1000)  # Expected: 1"
      ]
    },
    {
      "cell_type": "code",
      "execution_count": 5,
      "id": "903c0dc2",
      "metadata": {
        "colab": {
          "base_uri": "https://localhost:8080/"
        },
        "id": "903c0dc2",
        "outputId": "8e38a4de-3447-404f-9670-b25503a0040c"
      },
      "outputs": [
        {
          "output_type": "execute_result",
          "data": {
            "text/plain": [
              "12874"
            ]
          },
          "metadata": {},
          "execution_count": 5
        }
      ],
      "source": [
        "ntarsis_set([1, 4, 7, 9, 12, 15, 17, 18, 20], 1434)  # Expected: 12874"
      ]
    },
    {
      "cell_type": "code",
      "execution_count": 6,
      "id": "58e50070",
      "metadata": {
        "colab": {
          "base_uri": "https://localhost:8080/"
        },
        "id": "58e50070",
        "outputId": "51bc4794-2105-4b74-cbf9-3fe4753677dc"
      },
      "outputs": [
        {
          "output_type": "execute_result",
          "data": {
            "text/plain": [
              "16"
            ]
          },
          "metadata": {},
          "execution_count": 6
        }
      ],
      "source": [
        "ntarsis_set([1, 3, 5, 7, 9, 11, 13, 15, 17, 19], 4)  # Expected: 16"
      ]
    },
    {
      "cell_type": "code",
      "execution_count": 7,
      "id": "d37f7041",
      "metadata": {
        "colab": {
          "base_uri": "https://localhost:8080/"
        },
        "id": "d37f7041",
        "outputId": "477e8ff8-5606-491f-fb6c-01a3199f6b8a"
      },
      "outputs": [
        {
          "output_type": "execute_result",
          "data": {
            "text/plain": [
              "1499986"
            ]
          },
          "metadata": {},
          "execution_count": 7
        }
      ],
      "source": [
        "ntarsis_set([1, 3, 4, 5, 10, 11, 12, 13, 14, 15], 150000)  # Expected: 1499986"
      ]
    },
    {
      "cell_type": "code",
      "source": [],
      "metadata": {
        "id": "16gSkXhk6F26"
      },
      "id": "16gSkXhk6F26",
      "execution_count": null,
      "outputs": []
    }
  ],
  "metadata": {
    "kernelspec": {
      "display_name": "Python 3 (ipykernel)",
      "language": "python",
      "name": "python3"
    },
    "language_info": {
      "codemirror_mode": {
        "name": "ipython",
        "version": 3
      },
      "file_extension": ".py",
      "mimetype": "text/x-python",
      "name": "python",
      "nbconvert_exporter": "python",
      "pygments_lexer": "ipython3",
      "version": "3.8.15"
    },
    "colab": {
      "provenance": []
    }
  },
  "nbformat": 4,
  "nbformat_minor": 5
}