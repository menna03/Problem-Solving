{
  "cells": [
    {
      "cell_type": "markdown",
      "id": "2d278beb",
      "metadata": {
        "id": "2d278beb"
      },
      "source": [
        "<center>\n",
        "    <H1>\n",
        "        Happy Birthday\n",
        "    </H1>\n",
        "</center>\n",
        "\n",
        "<hr style=\"height:2px\">\n",
        "\n",
        "<center>\n",
        "    <H3>\n",
        "        Problem\n",
        "    </H3>\n",
        "</center>\n",
        "\n",
        "You have a set of birthday cake candles. Each of such candles represents a digit between $0$ and $9$, inclusive.\n",
        "\n",
        "<img src=\"img/happy_birthday.png\" alt=\"img/happy_birthday.png\">\n",
        "\n",
        "Let's denote the candle representing the digit $d$ as $d$-candle.\n",
        "\n",
        "Your set contains $c_0$ instances of $0$-candles, $c_1$ instances of $1$-candles and so on. So, the total number of candles is $c_0+c_1+⋯+c_9$.\n",
        "\n",
        "These digits are needed to wish your cat a happy birthday. For each birthday, starting with the first, you want to compose the age of the cat using the digits from the set.\n",
        "\n",
        "Since you light candles for a very short time, candles don't have time to burn out. For this reason you can reuse candles an arbitrary number of times (therefore your set of candles never changes).\n",
        "\n",
        "For example, if you have one instance of each digit (i.e. $c_0$=$c_1$=⋯=$c_9$=1), you can compose any number from $1$ to $10$ using this set, but you cannot compose $11$.\n",
        "\n",
        "You have to determine the first birthday, on which you cannot compose the age of the cat using the candles from your set.\n",
        "\n",
        "\n",
        "<BR>\n",
        "In other words, given the counts of the different $d$-candles, $[c_0, ..., c_9]$:\n",
        "<p style=\"font-weight: bold; text-align: center\">\n",
        "    Write a function that returns <u>the minimum number $y$ such that all numbers from $1$ to $y−1$ can be composed by digits from your set, but $y$ cannot be composed</u>.\n",
        "</p>\n",
        "<BR>\n",
        "\n",
        "<hr style=\"height:2px\">\n",
        "\n",
        "<center>\n",
        "    <H3>\n",
        "        Sample Inputs & Outputs\n",
        "    </H3>\n",
        "</center>\n",
        "\n",
        "Sample input(s) and output(s) are given below. Note that the examples below are not exhaustive and that <u>**we will try your solution on other examples that are held back**</u> for verification later. Do try to account for as many cases as you can. Good Luck!\n",
        "\n",
        "#### Example 1\n",
        "```\n",
        "Input: digits_counts = [1, 1, 1, 1, 1, 1, 1, 1, 1, 1]\n",
        "Output: 11  // to make \"11\", we need two \"1\"s, but we have only a single \"1\"\n",
        "```\n",
        "\n",
        "<hr style=\"height:2px\">"
      ]
    },
    {
      "cell_type": "markdown",
      "id": "12600d9d",
      "metadata": {
        "id": "12600d9d"
      },
      "source": [
        "Please fill in the function below, then try your solution on the examples given at the bottom of this notebook.\n",
        "\n",
        "**Do NOT import or use any external libraries. AVOID `import` statements in your solution (e.g. `import numpy as np`).\n",
        "Use only base Python functions and pre-loaded libraries.**\n",
        "\n",
        "*You are free to add your own helper functions to be called by the function below.*\n",
        "\n",
        "Examples of functions/methods that you may use:\n",
        "   - min()\n",
        "   - max()\n",
        "   - len()\n",
        "   - type()\n",
        "   - range()\n",
        "   - reversed()\n",
        "   - list.sort()\n",
        "   - list.append()\n",
        "   - list.extend()\n",
        "   - list.pop()\n",
        "   - list.remove()\n",
        "   - list.index()"
      ]
    },
    {
      "cell_type": "code",
      "execution_count": null,
      "id": "e6415c8c",
      "metadata": {
        "id": "e6415c8c"
      },
      "outputs": [],
      "source": [
        "def happy_birthday(digits_counts):\n",
        "\n",
        "    min_count = float('inf')\n",
        "    pos = -1\n",
        "\n",
        "    for i in range(1, 10):\n",
        "        if digits_counts[i] < min_count:\n",
        "            min_count = digits_counts[i]\n",
        "            pos = i\n",
        "\n",
        "    if digits_counts[0] < min_count:\n",
        "        result = '1' + '0' * (digits_counts[0] + 1)\n",
        "    else:\n",
        "        result = str(pos) * (digits_counts[pos] + 1)\n",
        "\n",
        "    return result"
      ]
    },
    {
      "cell_type": "code",
      "execution_count": null,
      "id": "4366fc4a",
      "metadata": {
        "colab": {
          "base_uri": "https://localhost:8080/",
          "height": 35
        },
        "id": "4366fc4a",
        "outputId": "9546dcc0-bd73-4737-8f4e-070b0ea808ca"
      },
      "outputs": [
        {
          "output_type": "execute_result",
          "data": {
            "text/plain": [
              "'11'"
            ],
            "application/vnd.google.colaboratory.intrinsic+json": {
              "type": "string"
            }
          },
          "metadata": {},
          "execution_count": 14
        }
      ],
      "source": [
        "happy_birthday([1, 1, 1, 1, 1, 1, 1, 1, 1, 1])  # Expected: 11"
      ]
    },
    {
      "cell_type": "code",
      "execution_count": null,
      "id": "56b7c645",
      "metadata": {
        "colab": {
          "base_uri": "https://localhost:8080/",
          "height": 35
        },
        "id": "56b7c645",
        "outputId": "a0676ee5-b75e-4b46-9207-cc3aa8e9dd20"
      },
      "outputs": [
        {
          "output_type": "execute_result",
          "data": {
            "text/plain": [
              "'1'"
            ],
            "application/vnd.google.colaboratory.intrinsic+json": {
              "type": "string"
            }
          },
          "metadata": {},
          "execution_count": 15
        }
      ],
      "source": [
        "happy_birthday([0, 0, 1, 1, 2, 2, 3, 3, 4, 4])  # Expected: 1"
      ]
    },
    {
      "cell_type": "code",
      "execution_count": null,
      "id": "1d91c7dc",
      "metadata": {
        "colab": {
          "base_uri": "https://localhost:8080/",
          "height": 35
        },
        "id": "1d91c7dc",
        "outputId": "236faa52-0a26-4866-c341-5e9c77ae300f"
      },
      "outputs": [
        {
          "output_type": "execute_result",
          "data": {
            "text/plain": [
              "'7'"
            ],
            "application/vnd.google.colaboratory.intrinsic+json": {
              "type": "string"
            }
          },
          "metadata": {},
          "execution_count": 16
        }
      ],
      "source": [
        "happy_birthday([1, 2, 1, 2, 1, 3, 1, 0, 0, 0])  # Expected: 7"
      ]
    },
    {
      "cell_type": "code",
      "execution_count": null,
      "id": "903c0dc2",
      "metadata": {
        "colab": {
          "base_uri": "https://localhost:8080/",
          "height": 35
        },
        "id": "903c0dc2",
        "outputId": "0419e48f-23e2-403e-c3b2-9b4534ca413e"
      },
      "outputs": [
        {
          "output_type": "execute_result",
          "data": {
            "text/plain": [
              "'10'"
            ],
            "application/vnd.google.colaboratory.intrinsic+json": {
              "type": "string"
            }
          },
          "metadata": {},
          "execution_count": 17
        }
      ],
      "source": [
        "happy_birthday([0, 1, 2, 1, 4, 3, 1, 1, 2, 1])  # Expected: 10"
      ]
    },
    {
      "cell_type": "code",
      "source": [],
      "metadata": {
        "id": "51ncTFrcae7n"
      },
      "id": "51ncTFrcae7n",
      "execution_count": null,
      "outputs": []
    }
  ],
  "metadata": {
    "kernelspec": {
      "display_name": "Python 3 (ipykernel)",
      "language": "python",
      "name": "python3"
    },
    "language_info": {
      "codemirror_mode": {
        "name": "ipython",
        "version": 3
      },
      "file_extension": ".py",
      "mimetype": "text/x-python",
      "name": "python",
      "nbconvert_exporter": "python",
      "pygments_lexer": "ipython3",
      "version": "3.8.15"
    },
    "colab": {
      "provenance": []
    }
  },
  "nbformat": 4,
  "nbformat_minor": 5
}