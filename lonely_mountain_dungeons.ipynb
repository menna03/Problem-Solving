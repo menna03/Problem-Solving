{
  "cells": [
    {
      "cell_type": "markdown",
      "id": "2d278beb",
      "metadata": {
        "id": "2d278beb"
      },
      "source": [
        "<center>\n",
        "    <H1>\n",
        "        Lonely Mountain Dungeons\n",
        "    </H1>\n",
        "</center>\n",
        "\n",
        "<hr style=\"height:2px\">\n",
        "\n",
        "<center>\n",
        "    <H3>\n",
        "        Problem\n",
        "    </H3>\n",
        "</center>\n",
        "\n",
        "Once, the people, elves, dwarves, and other inhabitants of Middle-earth gathered to reclaim the treasures stolen from them by Smaug. In the name of this great goal, they rallied around the powerful elf Timothy and began to plan the overthrow of the ruler of the Lonely Mountain.\n",
        "\n",
        "The army of Middle-earth inhabitants will consist of several squads. It is known that each pair of creatures of **the same race**, which are in different squads, adds $b$ units to the total strength of the army. But since it will be difficult for Timothy to lead an army consisting of a large number of squads, the total strength of an army consisting of $k$ squads is reduced by $(k−1)⋅x$ units ($x$ is the penalty for each additional squad after the first one). Note that the army always consists **of at least one squad**.\n",
        "\n",
        "It is known that there are $n$ races in Middle-earth, and the number of creatures of the $i$-th race is equal to $r_i$. Help the inhabitants of Middle-earth determine the maximum strength of the army they can assemble.\n",
        "\n",
        "\n",
        "\n",
        "<BR>\n",
        "Given the counts of the different races $[r_1, ..., r_n]$, the score of each pair of the same race across different squads $b$, and the penalty $x$ for each squad besides the first one:\n",
        "<p style=\"font-weight: bold; text-align: center\">\n",
        "    Write a function that returns <u>the maximum strength of the army that the inhabitants of Middle-earth can assemble</u>.\n",
        "</p>\n",
        "<BR>\n",
        "\n",
        "<hr style=\"height:2px\">\n",
        "\n",
        "<center>\n",
        "    <H3>\n",
        "        Sample Inputs & Outputs\n",
        "    </H3>\n",
        "</center>\n",
        "\n",
        "Sample input(s) and output(s) are given below. Note that the examples below are not exhaustive and that <u>**we will try your solution on other examples that are held back**</u> for verification later. Do try to account for as many cases as you can. Good Luck!\n",
        "\n",
        "#### Example 1\n",
        "```\n",
        "Input: r = [1,2,3], b = 1, x = 0\n",
        "Output: 4\n",
        "    // assuming races r1/r2/r3 of which there are 1/2/3 individuals, the squads are arranged as follows:\n",
        "    //   squad 1: r1 r2 r3\n",
        "    //   squad 2:    r2 r3\n",
        "    //   squad 3:       r3\n",
        "    //     score from race r1 = 0  -->  no pairs\n",
        "    //     score from race r2 = 1  -->  1 possible pair  * b = 1 * 1 = 1\n",
        "    //     score from race r3 = 3  -->  3 possible pairs * b = 3 * 1 = 3\n",
        "    //     penalty from having multiple squads  -->  (k - 1) * x = (3 - 1) * 0 = 0\n",
        "    //     final score = 0 + 1 + 3 - 0 = 4\n",
        "```\n",
        "\n",
        "#### Example 2\n",
        "```\n",
        "Input: r = [2,5,3], b = 5, x = 10\n",
        "Output: 40\n",
        "    // assuming races r1/r2/r3 of which there are 2/5/3 individuals, the squads are arranged as follows:\n",
        "    //   squad 1: r1 r2 r3 r3\n",
        "    //   squad 2: r1 r2 r3 r3\n",
        "    //   squad 3:    r2 r3\n",
        "    //     score from race r2 = 1  -->  1 possible pair  * b = 1 * 5 = 5\n",
        "    //     score from race r3 = 3  -->  3 possible pairs * b = 3 * 5 = 15\n",
        "    //     score from race r3 = 3  -->  3 possible pairs * b = 8 * 5 = 40\n",
        "    //     penalty from having multiple squads  -->  (k - 1) * x = (3 - 1) * 10 = 20\n",
        "    //     final score = 5 + 15 + 40 - 20 = 40\n",
        "```\n",
        "\n",
        "<hr style=\"height:2px\">"
      ]
    },
    {
      "cell_type": "markdown",
      "id": "12600d9d",
      "metadata": {
        "id": "12600d9d"
      },
      "source": [
        "Please fill in the function below, then try your solution on the examples given at the bottom of this notebook.\n",
        "\n",
        "**Do NOT import or use any external libraries. AVOID `import` statements in your solution (e.g. `import numpy as np`).\n",
        "Use only base Python functions and pre-loaded libraries.**\n",
        "\n",
        "*You are free to add your own helper functions to be called by the function below.*\n",
        "\n",
        "Examples of functions/methods that you may use:\n",
        "   - min()\n",
        "   - max()\n",
        "   - len()\n",
        "   - type()\n",
        "   - range()\n",
        "   - reversed()\n",
        "   - list.sort()\n",
        "   - list.append()\n",
        "   - list.extend()\n",
        "   - list.pop()\n",
        "   - list.remove()\n",
        "   - list.index()"
      ]
    },
    {
      "cell_type": "code",
      "source": [
        "def lonelyMountainDungeons(r, b, x):\n",
        "    R = len(r)  # races\n",
        "    maxR = max(r)  # Max race\n",
        "\n",
        "    pair = [0] * (maxR + 1)\n",
        "    add = [0] * (maxR + 1)\n",
        "\n",
        "    def calculate_pairs(n, k):\n",
        "        if n == 0 or k == 0:\n",
        "            return 0\n",
        "        x = n // k\n",
        "        l = n % k\n",
        "        r = k - l\n",
        "        L = (x + 1) * l\n",
        "        R = x * r\n",
        "        return R * L + (R - x) * R // 2 + L * (L - x - 1) // 2\n",
        "\n",
        "    for i in range(R):\n",
        "        for j in range(1, r[i] + 1):\n",
        "            pair[j] += calculate_pairs(r[i], j)\n",
        "        add[r[i]] += calculate_pairs(r[i], r[i])\n",
        "\n",
        "    ans = 0\n",
        "    other = 0\n",
        "\n",
        "    for i in range(1, maxR + 1):\n",
        "        ans = max(ans, b * (pair[i] + other) - x * (i - 1))\n",
        "        other += add[i]\n",
        "\n",
        "    return ans\n"
      ],
      "metadata": {
        "id": "wkdVcwCLMuHG"
      },
      "id": "wkdVcwCLMuHG",
      "execution_count": 15,
      "outputs": []
    },
    {
      "cell_type": "code",
      "execution_count": 16,
      "id": "4366fc4a",
      "metadata": {
        "colab": {
          "base_uri": "https://localhost:8080/"
        },
        "id": "4366fc4a",
        "outputId": "bfa6775c-e641-4d76-a6cb-e5e46085fc44"
      },
      "outputs": [
        {
          "output_type": "execute_result",
          "data": {
            "text/plain": [
              "4"
            ]
          },
          "metadata": {},
          "execution_count": 16
        }
      ],
      "source": [
        "lonelyMountainDungeons(r = [1,2,3], b = 1, x = 0)  # Expected: 4"
      ]
    },
    {
      "cell_type": "code",
      "execution_count": 17,
      "id": "56b7c645",
      "metadata": {
        "colab": {
          "base_uri": "https://localhost:8080/"
        },
        "id": "56b7c645",
        "outputId": "a562a9aa-8a91-4832-e0e5-ca8810c30f93"
      },
      "outputs": [
        {
          "output_type": "execute_result",
          "data": {
            "text/plain": [
              "40"
            ]
          },
          "metadata": {},
          "execution_count": 17
        }
      ],
      "source": [
        "lonelyMountainDungeons(r = [2,5,3], b = 5, x = 10)  # Expected: 40"
      ]
    },
    {
      "cell_type": "code",
      "execution_count": 18,
      "id": "1d91c7dc",
      "metadata": {
        "colab": {
          "base_uri": "https://localhost:8080/"
        },
        "id": "1d91c7dc",
        "outputId": "e6dae327-7fdb-4e3c-d03b-04f68c4a109d"
      },
      "outputs": [
        {
          "output_type": "execute_result",
          "data": {
            "text/plain": [
              "9"
            ]
          },
          "metadata": {},
          "execution_count": 18
        }
      ],
      "source": [
        "lonelyMountainDungeons(r = [3,2,1,2], b = 3, x = 3)  # Expected: 9"
      ]
    },
    {
      "cell_type": "code",
      "execution_count": 19,
      "id": "903c0dc2",
      "metadata": {
        "colab": {
          "base_uri": "https://localhost:8080/"
        },
        "id": "903c0dc2",
        "outputId": "ced528f2-9626-4cfe-ed84-b4910fa6b7eb"
      },
      "outputs": [
        {
          "output_type": "execute_result",
          "data": {
            "text/plain": [
              "13"
            ]
          },
          "metadata": {},
          "execution_count": 19
        }
      ],
      "source": [
        "lonelyMountainDungeons(r = [4,1,4,2], b = 1, x = 0)  # Expected: 13"
      ]
    },
    {
      "cell_type": "code",
      "execution_count": 20,
      "id": "58e50070",
      "metadata": {
        "colab": {
          "base_uri": "https://localhost:8080/"
        },
        "id": "58e50070",
        "outputId": "03c006e3-004a-4a31-d5e2-d49f2da17f54"
      },
      "outputs": [
        {
          "output_type": "execute_result",
          "data": {
            "text/plain": [
              "0"
            ]
          },
          "metadata": {},
          "execution_count": 20
        }
      ],
      "source": [
        "lonelyMountainDungeons(r = [4,1,4,2], b = 1, x = 10)  # Expected: 0"
      ]
    },
    {
      "cell_type": "code",
      "source": [],
      "metadata": {
        "id": "v0W8vaUVwNE4"
      },
      "id": "v0W8vaUVwNE4",
      "execution_count": 20,
      "outputs": []
    }
  ],
  "metadata": {
    "kernelspec": {
      "display_name": "Python 3 (ipykernel)",
      "language": "python",
      "name": "python3"
    },
    "language_info": {
      "codemirror_mode": {
        "name": "ipython",
        "version": 3
      },
      "file_extension": ".py",
      "mimetype": "text/x-python",
      "name": "python",
      "nbconvert_exporter": "python",
      "pygments_lexer": "ipython3",
      "version": "3.8.15"
    },
    "colab": {
      "provenance": []
    }
  },
  "nbformat": 4,
  "nbformat_minor": 5
}